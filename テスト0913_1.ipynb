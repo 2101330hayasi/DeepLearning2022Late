{
  "nbformat": 4,
  "nbformat_minor": 0,
  "metadata": {
    "colab": {
      "provenance": [],
      "authorship_tag": "ABX9TyOGDQOUk66tx6MSHokNt0AU",
      "include_colab_link": true
    },
    "kernelspec": {
      "name": "python3",
      "display_name": "Python 3"
    },
    "language_info": {
      "name": "python"
    }
  },
  "cells": [
    {
      "cell_type": "markdown",
      "metadata": {
        "id": "view-in-github",
        "colab_type": "text"
      },
      "source": [
        "<a href=\"https://colab.research.google.com/github/2101330hayasi/DeepLearning2022Late/blob/main/%E3%83%86%E3%82%B9%E3%83%880913_1.ipynb\" target=\"_parent\"><img src=\"https://colab.research.google.com/assets/colab-badge.svg\" alt=\"Open In Colab\"/></a>"
      ]
    },
    {
      "cell_type": "code",
      "execution_count": null,
      "metadata": {
        "id": "kor3p8vgUWNz"
      },
      "outputs": [],
      "source": []
    },
    {
      "cell_type": "markdown",
      "source": [
        "#リスト型とタプル型\n",
        "##リストとタプル\n"
      ],
      "metadata": {
        "id": "zCY_M_fsU6qt"
      }
    },
    {
      "cell_type": "code",
      "source": [
        "#リスト\n",
        "list = ['アップル','ペン','ペン','パイナップル']\n",
        "print(list)\n",
        "print(list[1] + list[2])"
      ],
      "metadata": {
        "colab": {
          "base_uri": "https://localhost:8080/"
        },
        "id": "DXMTsIjRVH52",
        "outputId": "d57d315d-3932-4e4d-d46d-186916d6021c"
      },
      "execution_count": null,
      "outputs": [
        {
          "output_type": "stream",
          "name": "stdout",
          "text": [
            "['アップル', 'ペン', 'ペン', 'パイナップル']\n",
            "ペンペン\n"
          ]
        }
      ]
    },
    {
      "cell_type": "code",
      "source": [
        "#タプル\n",
        "tuple = ('アップル','ペン','ペン','パイナップル')\n",
        "print(tuple)\n",
        "print(tuple[1] + tuple[2])"
      ],
      "metadata": {
        "colab": {
          "base_uri": "https://localhost:8080/"
        },
        "id": "jKYu7BV2WZWx",
        "outputId": "258e4758-b909-4a82-8a44-1f483ec18f89"
      },
      "execution_count": null,
      "outputs": [
        {
          "output_type": "stream",
          "name": "stdout",
          "text": [
            "('アップル', 'ペン', 'ペン', 'パイナップル')\n",
            "ペンペン\n"
          ]
        }
      ]
    },
    {
      "cell_type": "code",
      "source": [],
      "metadata": {
        "id": "g5DWOCToW4gC"
      },
      "execution_count": null,
      "outputs": []
    },
    {
      "cell_type": "markdown",
      "source": [
        "###構成を変更できるのはリスト\n",
        "###構成を変更できない（固定）はタプル"
      ],
      "metadata": {
        "id": "d4Mhd0SMXYwu"
      }
    },
    {
      "cell_type": "code",
      "source": [
        "#リストの構成変更\n",
        "print(list)\n",
        "list.append(100)#文字列データのリストにあえて数値を追加\n",
        "print(list)\n",
        "del list[2]\n",
        "print(list)\n",
        "list[3] = 'ペン'\n",
        "print(list)\n",
        "list.insert(2,'ペン')\n",
        "print(list)"
      ],
      "metadata": {
        "colab": {
          "base_uri": "https://localhost:8080/"
        },
        "id": "sm8rvMGIXsSg",
        "outputId": "7b0e9797-4af0-40c3-e21c-fca3accbbe29"
      },
      "execution_count": null,
      "outputs": [
        {
          "output_type": "stream",
          "name": "stdout",
          "text": [
            "['アップル', 'ペン', 'ペン', 'パイナップル']\n",
            "['アップル', 'ペン', 'ペン', 'パイナップル', 100]\n",
            "['アップル', 'ペン', 'パイナップル', 100]\n",
            "['アップル', 'ペン', 'パイナップル', 'ペン']\n",
            "['アップル', 'ペン', 'ペン', 'パイナップル', 'ペン']\n"
          ]
        }
      ]
    },
    {
      "cell_type": "markdown",
      "source": [
        "###リストやタプルの長さの取得"
      ],
      "metadata": {
        "id": "a3uux3e-bmm6"
      }
    },
    {
      "cell_type": "code",
      "source": [
        "print(list)\n",
        "print(len(list))#len()で長さを取得する\n"
      ],
      "metadata": {
        "colab": {
          "base_uri": "https://localhost:8080/"
        },
        "id": "JuYT0Ln0btMB",
        "outputId": "a3723c14-1875-456f-d63b-da3f9053e5c8"
      },
      "execution_count": null,
      "outputs": [
        {
          "output_type": "stream",
          "name": "stdout",
          "text": [
            "['アップル', 'ペン', 'ペン', 'パイナップル', 'ペン']\n",
            "5\n"
          ]
        }
      ]
    },
    {
      "cell_type": "markdown",
      "source": [
        "###スライス"
      ],
      "metadata": {
        "id": "u1MPN-TScUEX"
      }
    },
    {
      "cell_type": "markdown",
      "source": [
        "####データを抽出する(データを一部分取り出す)\n"
      ],
      "metadata": {
        "id": "UR43ANJXcglE"
      }
    },
    {
      "cell_type": "code",
      "source": [
        "print(list)\n",
        "print(list[1])#何番目の要素の指定の仕方と同じ考え方\n",
        "print(list[1:3])#1番目から3番目の範囲を指定\n",
        "print(list[1:])#１番目から最後まで抽出\n"
      ],
      "metadata": {
        "colab": {
          "base_uri": "https://localhost:8080/"
        },
        "id": "DtJVjPDecrkS",
        "outputId": "13d34641-0aac-4f2b-d065-304c976877f2"
      },
      "execution_count": null,
      "outputs": [
        {
          "output_type": "stream",
          "name": "stdout",
          "text": [
            "['アップル', 'ペン', 'ペン', 'パイナップル', 'ペン']\n",
            "ペン\n",
            "['ペン', 'ペン']\n",
            "['ペン', 'ペン', 'パイナップル', 'ペン']\n"
          ]
        }
      ]
    },
    {
      "cell_type": "markdown",
      "source": [
        "#SET型　(集合型)\n"
      ],
      "metadata": {
        "id": "-uqUk6qle67U"
      }
    },
    {
      "cell_type": "markdown",
      "source": [
        "####集合型SETは、順番を持たない、重複したデータも持たない"
      ],
      "metadata": {
        "id": "9t7mio0AfoRM"
      }
    },
    {
      "cell_type": "code",
      "source": [
        "#uniqという名前のset型変数を作る\n",
        "uniq = set(['アップル','ペン','ペン','パイナップル'])\n",
        "print(uniq)#リストの時点では'ペン'が重複できていたが、set型になって重複が消えた"
      ],
      "metadata": {
        "colab": {
          "base_uri": "https://localhost:8080/"
        },
        "id": "mB2NeBhJf76l",
        "outputId": "5cb61fae-1076-40b8-d86c-7fe2d507a415"
      },
      "execution_count": null,
      "outputs": [
        {
          "output_type": "stream",
          "name": "stdout",
          "text": [
            "{'パイナップル', 'ペン', 'アップル'}\n"
          ]
        }
      ]
    },
    {
      "cell_type": "markdown",
      "source": [
        "###集合型の追加変更削除\n"
      ],
      "metadata": {
        "id": "jn0h2M07hamH"
      }
    },
    {
      "cell_type": "code",
      "source": [
        "print(uniq)\n",
        "uniq.add('バナナ')#追加\n",
        "uniq.remove('ペン')\n",
        "print(uniq)"
      ],
      "metadata": {
        "colab": {
          "base_uri": "https://localhost:8080/"
        },
        "id": "wOh9ZMU4hlQn",
        "outputId": "6022f03f-4307-46a2-f094-092933c0f413"
      },
      "execution_count": null,
      "outputs": [
        {
          "output_type": "stream",
          "name": "stdout",
          "text": [
            "{'パイナップル', 'ペン', 'アップル'}\n",
            "{'バナナ', 'パイナップル', 'アップル'}\n"
          ]
        }
      ]
    },
    {
      "cell_type": "code",
      "source": [],
      "metadata": {
        "id": "td9NOHhBh4SQ"
      },
      "execution_count": null,
      "outputs": []
    },
    {
      "cell_type": "markdown",
      "source": [
        "####集合演算\n",
        "######包括、積、和、差分"
      ],
      "metadata": {
        "id": "g0cZtv05ijU4"
      }
    },
    {
      "cell_type": "code",
      "source": [
        "#uniqの値を再定義\n",
        "uniq = set (['アップル','ペン','ペン','パイナップル'])\n",
        "a = set (['アップル','ペン'])\n",
        "b = set (['ペン','パイナップル'])\n",
        "print(uniq)\n",
        "print(a)\n",
        "print(b)\n",
        "#集合aは集合uniqのaubset(部分集合)である? = 包括関係\n",
        "a.issubset(uniq)\n",
        "#データ'ペン'は集合aの中にある?\n",
        "'ペン'in a"
      ],
      "metadata": {
        "colab": {
          "base_uri": "https://localhost:8080/"
        },
        "id": "Q2MUmpN3iywD",
        "outputId": "bc9794ef-a7ed-418d-dd30-4cd0ac9624fb"
      },
      "execution_count": null,
      "outputs": [
        {
          "output_type": "stream",
          "name": "stdout",
          "text": [
            "{'パイナップル', 'ペン', 'アップル'}\n",
            "{'ペン', 'アップル'}\n",
            "{'パイナップル', 'ペン'}\n"
          ]
        },
        {
          "output_type": "execute_result",
          "data": {
            "text/plain": [
              "True"
            ]
          },
          "metadata": {},
          "execution_count": 10
        }
      ]
    },
    {
      "cell_type": "code",
      "source": [
        "#ある集合と別の集合の共通部分の要素\n",
        "#集合aと集合bの共通集合\n",
        "print(a)\n",
        "print(b)\n",
        "print(a.intersection(b))\n",
        "#集合aと集合bの結合：和集合\n",
        "print(a.union(b))\n",
        "a.difference(b)"
      ],
      "metadata": {
        "colab": {
          "base_uri": "https://localhost:8080/"
        },
        "id": "a9efRTIOqJr9",
        "outputId": "f7df5f0d-9334-4ef9-dfef-c45eda7c8f35"
      },
      "execution_count": null,
      "outputs": [
        {
          "output_type": "stream",
          "name": "stdout",
          "text": [
            "{'ペン', 'アップル'}\n",
            "{'パイナップル', 'ペン'}\n",
            "{'ペン'}\n"
          ]
        }
      ]
    },
    {
      "cell_type": "code",
      "source": [],
      "metadata": {
        "id": "BL63Dg_LqvOg"
      },
      "execution_count": null,
      "outputs": []
    }
  ]
}