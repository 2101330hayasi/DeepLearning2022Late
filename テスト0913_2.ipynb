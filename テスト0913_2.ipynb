{
  "nbformat": 4,
  "nbformat_minor": 0,
  "metadata": {
    "colab": {
      "provenance": [],
      "collapsed_sections": [],
      "authorship_tag": "ABX9TyOYE5G27Rxr74B0z6cxeeZk",
      "include_colab_link": true
    },
    "kernelspec": {
      "name": "python3",
      "display_name": "Python 3"
    },
    "language_info": {
      "name": "python"
    }
  },
  "cells": [
    {
      "cell_type": "markdown",
      "metadata": {
        "id": "view-in-github",
        "colab_type": "text"
      },
      "source": [
        "<a href=\"https://colab.research.google.com/github/2101330hayasi/DeepLearning2022Late/blob/main/%E3%83%86%E3%82%B9%E3%83%880913_2.ipynb\" target=\"_parent\"><img src=\"https://colab.research.google.com/assets/colab-badge.svg\" alt=\"Open In Colab\"/></a>"
      ]
    },
    {
      "cell_type": "markdown",
      "source": [
        "#辞書型(dictionary)\n",
        "###キーと値のペアで管理する\n"
      ],
      "metadata": {
        "id": "4NaYJO-szdd7"
      }
    },
    {
      "cell_type": "markdown",
      "source": [
        "#辞書型の定型文"
      ],
      "metadata": {
        "id": "RFsNVzaDzv4C"
      }
    },
    {
      "cell_type": "code",
      "source": [
        "#辞書型のデータを作って変数dict\n",
        "#｛キーワード：値,'キーワード':値｝でデータを管理\n",
        "dict = {'アップル':1,'ペン':2,'パイナップル':3}\n",
        "#値を利用するときは、キーワードで指定\n",
        "print(dict['ペン'])\n"
      ],
      "metadata": {
        "colab": {
          "base_uri": "https://localhost:8080/"
        },
        "id": "qbcLFCMyzzEp",
        "outputId": "18986605-166f-4a44-d0a4-39cbc1a855c2"
      },
      "execution_count": null,
      "outputs": [
        {
          "output_type": "stream",
          "name": "stdout",
          "text": [
            "2\n"
          ]
        }
      ]
    },
    {
      "cell_type": "markdown",
      "source": [
        "#辞書型のキーワード一覧、値一覧を取得する"
      ],
      "metadata": {
        "id": "g5cSVhGX1uQb"
      }
    },
    {
      "cell_type": "code",
      "source": [
        "print(dict)\n",
        "#dictに入っているキーの一覧\n",
        "print(dict.keys())\n",
        "#dictい入っている値の一覧\n",
        "print(dict.values())"
      ],
      "metadata": {
        "colab": {
          "base_uri": "https://localhost:8080/"
        },
        "id": "auf_kssZ15x-",
        "outputId": "5dbd2867-4c79-4b35-e58a-7961bb3bcdd1"
      },
      "execution_count": null,
      "outputs": [
        {
          "output_type": "stream",
          "name": "stdout",
          "text": [
            "{'アップル': 1, 'ペン': 2, 'パイナップル': 3}\n",
            "dict_keys(['アップル', 'ペン', 'パイナップル'])\n",
            "dict_values([1, 2, 3])\n"
          ]
        }
      ]
    },
    {
      "cell_type": "code",
      "source": [],
      "metadata": {
        "id": "dxm4gwr82ZFl"
      },
      "execution_count": null,
      "outputs": []
    },
    {
      "cell_type": "markdown",
      "source": [
        "#辞書型の追加・削除・更新"
      ],
      "metadata": {
        "id": "3g8_rE302dI6"
      }
    },
    {
      "cell_type": "code",
      "source": [
        "print(dict)\n",
        "#dictにバナナというキーワードで値5を追加\n",
        "#print(dict.keys())\n",
        "dict['バナナ']= 5\n",
        "print(dict)\n",
        "#キーワードがすでにあったら、そのキーワードの値を更新\n",
        "dict['バナナ'] = 100\n",
        "print(dict)\n",
        "#キーワードで指定したペアを削除\n",
        "dict.pop('バナナ')\n",
        "print(dict)\n"
      ],
      "metadata": {
        "colab": {
          "base_uri": "https://localhost:8080/"
        },
        "id": "kwfR5bfk2mgM",
        "outputId": "048e4545-fc0a-4973-9559-961b51dd2719"
      },
      "execution_count": null,
      "outputs": [
        {
          "output_type": "stream",
          "name": "stdout",
          "text": [
            "{'アップル': 1, 'ペン': 2, 'パイナップル': 3}\n",
            "{'アップル': 1, 'ペン': 2, 'パイナップル': 3, 'バナナ': 5}\n",
            "{'アップル': 1, 'ペン': 2, 'パイナップル': 3, 'バナナ': 100}\n",
            "{'アップル': 1, 'ペン': 2, 'パイナップル': 3}\n"
          ]
        }
      ]
    },
    {
      "cell_type": "markdown",
      "source": [
        "#文字列の整形"
      ],
      "metadata": {
        "id": "WzEohQ-240Sg"
      }
    },
    {
      "cell_type": "code",
      "source": [
        "#文字列の連結方法\n",
        "apple = 'アップル'\n",
        "pen = 'ペン'\n",
        "print(apple + pen)#プラス記号で連結\n",
        "#文字列の連結方法②文字配列を連結する\n",
        "piko = ['ペン','パイナップル','アップル','ペン']\n",
        "#printメソットで連結して表示例:,で連結\n",
        "print(','.join(piko))\n",
        "#回数を指定してメッセージを表示\n",
        "pon = 'ポン'\n",
        "print(pon*3)"
      ],
      "metadata": {
        "colab": {
          "base_uri": "https://localhost:8080/"
        },
        "id": "27Ry1GIR44rt",
        "outputId": "202cec71-1f7b-441d-ea16-7079f62220a9"
      },
      "execution_count": null,
      "outputs": [
        {
          "output_type": "stream",
          "name": "stdout",
          "text": [
            "アップルペン\n",
            "ペン,パイナップル,アップル,ペン\n",
            "ポンポンポン\n"
          ]
        }
      ]
    },
    {
      "cell_type": "markdown",
      "source": [
        "#【重要】文字列の整形（フォーマット）"
      ],
      "metadata": {
        "id": "hmox4Hts7WvZ"
      }
    },
    {
      "cell_type": "code",
      "source": [
        "#定式で指定した形のメッセージにする\n",
        "print('{}{}:{}円')\n",
        "#スロットを定義した順番、その数だけデータを引き渡して文章を組み立てる\n",
        "print('{}{}:{}円'.format('アップル','ペン',100))\n",
        "#スロットを値のインデックスで指定することもできる\n",
        "print('{1}{2}:{0}円'.format(100,'アップル','ペン'))\n",
        "\n"
      ],
      "metadata": {
        "colab": {
          "base_uri": "https://localhost:8080/"
        },
        "id": "6sIMGbpJ7Xrw",
        "outputId": "e15c620b-ff0b-470a-fa70-2b3af232de88"
      },
      "execution_count": null,
      "outputs": [
        {
          "output_type": "stream",
          "name": "stdout",
          "text": [
            "{}{}:{}円\n",
            "アップルペン:100円\n",
            "アップルペン:100円\n"
          ]
        }
      ]
    },
    {
      "cell_type": "markdown",
      "source": [
        "#コレクション演算\n",
        "リスト、タプルつまり順番がある集合の事をシーケンスという。\n",
        "順番がない集合を集合型（セット）という\n",
        "上記2種類をまとめてコレクションという。\n",
        "コレクションは共通の演算が使える\n",
        "len(長さ、量を取得),max(最大値を取得),min(最小値を取得)など\n"
      ],
      "metadata": {
        "id": "ffQq1UUSXTq4"
      }
    },
    {
      "cell_type": "code",
      "source": [
        "list = [1,1,2,3,4,5]#6つの要素\n",
        "tuple = (10,9,8,7,7,8,8,9)#7つの要素\n",
        "set = {1,-2,3,-4,-5,-6,-7,-8}\n",
        "print(len(list),max(list),min(list))\n",
        "print(len(tuple),max(tuple),min(tuple))"
      ],
      "metadata": {
        "colab": {
          "base_uri": "https://localhost:8080/"
        },
        "id": "r2ICO3M3YRXz",
        "outputId": "0c4baeb3-c226-4c34-d55e-42b7216b0f4e"
      },
      "execution_count": 2,
      "outputs": [
        {
          "output_type": "stream",
          "name": "stdout",
          "text": [
            "6 5 1\n",
            "8 10 7\n"
          ]
        }
      ]
    },
    {
      "cell_type": "code",
      "source": [],
      "metadata": {
        "id": "-9LIPzLLZYfZ"
      },
      "execution_count": null,
      "outputs": []
    }
  ]
}