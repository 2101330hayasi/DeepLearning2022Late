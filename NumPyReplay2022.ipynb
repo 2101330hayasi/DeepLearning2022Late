{
  "nbformat": 4,
  "nbformat_minor": 0,
  "metadata": {
    "colab": {
      "provenance": [],
      "authorship_tag": "ABX9TyMWSL16DEht6n9n/WFF8CM1",
      "include_colab_link": true
    },
    "kernelspec": {
      "name": "python3",
      "display_name": "Python 3"
    },
    "language_info": {
      "name": "python"
    }
  },
  "cells": [
    {
      "cell_type": "markdown",
      "metadata": {
        "id": "view-in-github",
        "colab_type": "text"
      },
      "source": [
        "<a href=\"https://colab.research.google.com/github/2101330hayasi/DeepLearning2022Late/blob/main/NumPyReplay2022.ipynb\" target=\"_parent\"><img src=\"https://colab.research.google.com/assets/colab-badge.svg\" alt=\"Open In Colab\"/></a>"
      ]
    },
    {
      "cell_type": "code",
      "execution_count": null,
      "metadata": {
        "id": "e5f4VxmThzWM"
      },
      "outputs": [],
      "source": []
    },
    {
      "cell_type": "markdown",
      "source": [
        "#Numpyを使用する\n"
      ],
      "metadata": {
        "id": "DM4hHG-1ngkT"
      }
    },
    {
      "cell_type": "code",
      "source": [
        "import numpy as np\n"
      ],
      "metadata": {
        "id": "QrrTh_obnk86"
      },
      "execution_count": 1,
      "outputs": []
    },
    {
      "cell_type": "code",
      "source": [
        "x = np.array([1.0,2.0,3.0,4.0,5.0])\n",
        "print(x)\n",
        "#array()は、Pythonのリストを渡すことでNumpy用の配列(numpy.ndarray)を作成します\n",
        "\n",
        "x = np.array([1,2,3])\n",
        "print(x) # [1 2 3]\n",
        "print(type(x)) # <class 'numpy.ndarray'>\n",
        "\n",
        "my_list1 = [1,2.3,4,5]\n",
        "my_array1=np.array(my_list1)#numpyのarrayを作る\n",
        "\n",
        "my_list2 = [10,20,30,40,50]\n",
        "my_lists = [my_list1,my_list2]#リストのリストを作る。\n",
        "my_lists# 【[1,2,3, 4,5], [10,20, 30,40, 50]]# リストのリストが完成。\n",
        "\n",
        "#my_listsを使ってNumPyのアレイを使る。(多次元配列を作る)\n",
        "my_array2 = np.array(my_lists)\n",
        "\n",
        "my_array2#21万列の配列ができる。\n",
        "\"\"\"\n",
        "array([[1, 2, 3, 4, 5],\n",
        "　　　[10, 20, 30, 40, 50]])\n",
        "\"\"\"\n",
        "\n",
        "25#次のように、タブルを複数渡すとエラーになってしまいます。\n",
        "26 #np.array((1,2,3), (4,5,6))\n",
        "\"\"\"\n",
        "Traceback (most recent call last):\n",
        "File \"<stdin>\", line 1, in <module>\n",
        "TypeError: data type not understood\n",
        "\"\"\"\n"
      ],
      "metadata": {
        "colab": {
          "base_uri": "https://localhost:8080/",
          "height": 128
        },
        "id": "p9daVj1anplk",
        "outputId": "9c3f4cfc-91be-4115-848c-712f8738f869"
      },
      "execution_count": 3,
      "outputs": [
        {
          "output_type": "stream",
          "name": "stdout",
          "text": [
            "[1. 2. 3. 4. 5.]\n",
            "[1 2 3]\n",
            "<class 'numpy.ndarray'>\n"
          ]
        },
        {
          "output_type": "stream",
          "name": "stderr",
          "text": [
            "/usr/local/lib/python3.7/dist-packages/ipykernel_launcher.py:17: VisibleDeprecationWarning: Creating an ndarray from ragged nested sequences (which is a list-or-tuple of lists-or-tuples-or ndarrays with different lengths or shapes) is deprecated. If you meant to do this, you must specify 'dtype=object' when creating the ndarray.\n"
          ]
        },
        {
          "output_type": "execute_result",
          "data": {
            "text/plain": [
              "'\\nTraceback (most recent call last):\\nFile \"<stdin>\", line 1, in <module>\\nTypeError: data type not understood\\n'"
            ],
            "application/vnd.google.colaboratory.intrinsic+json": {
              "type": "string"
            }
          },
          "metadata": {},
          "execution_count": 3
        }
      ]
    },
    {
      "cell_type": "markdown",
      "source": [
        "#Numpy配列の形状を調べる"
      ],
      "metadata": {
        "id": "ttMKaLcetlXy"
      }
    },
    {
      "cell_type": "code",
      "source": [
        "a = np.array([1, 2, 3, 4])\n",
        "a.shape#(4,)が出力される。これは1次元配列でかつ、4つ要素があることを意味します。\n",
        "b = np.array([[1, 2],[3,4]])\n",
        "b.shape#(2,2)これは行列で、2行2列を意味しています。"
      ],
      "metadata": {
        "colab": {
          "base_uri": "https://localhost:8080/"
        },
        "id": "Kb4TqmBYtK3H",
        "outputId": "9104dbe8-a410-4dcf-fd88-d9aa5a8367e9"
      },
      "execution_count": 4,
      "outputs": [
        {
          "output_type": "execute_result",
          "data": {
            "text/plain": [
              "(2, 2)"
            ]
          },
          "metadata": {},
          "execution_count": 4
        }
      ]
    },
    {
      "cell_type": "markdown",
      "source": [
        "#配列の生成arange()"
      ],
      "metadata": {
        "id": "z4GAXe5YuRcr"
      }
    },
    {
      "cell_type": "code",
      "source": [
        "#データの準備\n",
        "#等間隔の数字\n",
        "#0から9までの数字(配列)を生成\n",
        "x = np.arange(10)\n",
        "print(x)\n",
        "x=np.arange(1, 10).reshape(3,3) #3×3の多次元配列に変換\n",
        "y=np.arange(1, 10).reshape(3,3) #3x3の多次元配列に変換\n",
        "\"\"\"\n",
        "×を下記のように書き換えることも可能\n",
        "12 x.= np.reshape(x, (3,3))\n",
        "\"\"\"\n",
        "print(x)\n",
        "print(y)\n",
        "print(x +y)\n",
        "print(x-y)\n",
        "print(x* y)"
      ],
      "metadata": {
        "colab": {
          "base_uri": "https://localhost:8080/"
        },
        "id": "tV_p4ytat46x",
        "outputId": "02b7a2f3-e162-4b11-a180-d0138973b5c4"
      },
      "execution_count": 5,
      "outputs": [
        {
          "output_type": "stream",
          "name": "stdout",
          "text": [
            "[0 1 2 3 4 5 6 7 8 9]\n",
            "[[1 2 3]\n",
            " [4 5 6]\n",
            " [7 8 9]]\n",
            "[[1 2 3]\n",
            " [4 5 6]\n",
            " [7 8 9]]\n",
            "[[ 2  4  6]\n",
            " [ 8 10 12]\n",
            " [14 16 18]]\n",
            "[[0 0 0]\n",
            " [0 0 0]\n",
            " [0 0 0]]\n",
            "[[ 1  4  9]\n",
            " [16 25 36]\n",
            " [49 64 81]]\n"
          ]
        }
      ]
    },
    {
      "cell_type": "markdown",
      "source": [
        "#配列操作"
      ],
      "metadata": {
        "id": "vDAXQPGkuomb"
      }
    },
    {
      "cell_type": "code",
      "source": [
        "sample_array = np.arange(10)\n",
        "print(sample_array)\n",
        "\n",
        "#reshapeを使って配列の形状を指定\n",
        "sample_array2 = sample_array.reshape(2,5)\n",
        "print(sample_array2) #array(([0.1.2.3.4).[5.6.7.8.9]3)\n",
        "\n",
        "#concatenateを使って、データの結合する(axisで行方向か、縦方向を指定可能)\n",
        "sample_array3 = np.array([[1,2,3],[4,5,6]])\n",
        "sample_array4 = np.array([[7,8,9],[10,11,12]])\n",
        "\n",
        "#行方向に結合([[1,2,3,7,8,9],4,5,6,10,11,12]])\n",
        "print(np.concatenate([sample_array3,sample_array4],axis=1))\n",
        "\n",
        "#hstackでも行方向の結合が可能\n",
        "print(np.hstack((sample_array3,sample_array4)))\n",
        "\n",
        "\"\"\"\n",
        "axis=0で列方向\n",
        "axis=1で行方向です。\n",
        "下記URLを参考ください。\n",
        "https://qi http://ita.com/shuetsu@github/items/2bf8bba233c5ecc7a0ad\n",
        "\"\"\"\n",
        "#axisに0を設定しているので、列方向([[1,2,3],[4,5,6],[7,8,9],[1011,12\n",
        "print(np.concatenate([sample_array3,sample_array4],axis=0))\n",
        "\n",
        "#vstackで列方向の結合が可能\n",
        "print(np.vstack((sample_array3,sample_array4)))"
      ],
      "metadata": {
        "colab": {
          "base_uri": "https://localhost:8080/"
        },
        "id": "jBx6ae7culfH",
        "outputId": "479ada2b-f53d-4952-e6f3-080b3b9b0961"
      },
      "execution_count": 9,
      "outputs": [
        {
          "output_type": "stream",
          "name": "stdout",
          "text": [
            "[0 1 2 3 4 5 6 7 8 9]\n",
            "[[0 1 2 3 4]\n",
            " [5 6 7 8 9]]\n",
            "[[ 1  2  3  7  8  9]\n",
            " [ 4  5  6 10 11 12]]\n",
            "[[ 1  2  3  7  8  9]\n",
            " [ 4  5  6 10 11 12]]\n",
            "[[ 1  2  3]\n",
            " [ 4  5  6]\n",
            " [ 7  8  9]\n",
            " [10 11 12]]\n",
            "[[ 1  2  3]\n",
            " [ 4  5  6]\n",
            " [ 7  8  9]\n",
            " [10 11 12]]\n"
          ]
        }
      ]
    },
    {
      "cell_type": "markdown",
      "source": [
        "#ブロードキャスト"
      ],
      "metadata": {
        "id": "Zw13lMEXxfWw"
      }
    },
    {
      "cell_type": "code",
      "source": [
        "1#データの準備\n",
        "sample_array = np.arange(10)\n",
        "print(sample_array)\n",
        "\n",
        "#要素をコビーして大きさを揃えて、配列の全ての要素に5を加算\n",
        "#上記の配列に「5」を足す計算\n",
        "print(sample_array + 5)\n",
        "\n"
      ],
      "metadata": {
        "colab": {
          "base_uri": "https://localhost:8080/"
        },
        "id": "eaBSkmWFwWEf",
        "outputId": "b6a490c2-ba1d-4d8b-d8f6-a8f17971a5c9"
      },
      "execution_count": 10,
      "outputs": [
        {
          "output_type": "stream",
          "name": "stdout",
          "text": [
            "[0 1 2 3 4 5 6 7 8 9]\n",
            "[ 5  6  7  8  9 10 11 12 13 14]\n"
          ]
        }
      ]
    },
    {
      "cell_type": "markdown",
      "source": [
        "#多次元配列の計算"
      ],
      "metadata": {
        "id": "UU2fXrqPyGhA"
      }
    },
    {
      "cell_type": "code",
      "source": [
        "n1 = np.array([1,2,3,4,5])\n",
        "print(n1) # [1 2 3 4 5]\n",
        "\n",
        "#配列の次元数はnp.ndim()関数で取得可能\n",
        "np.ndim(n1)#1-1次元\n",
        "\n",
        "#配列の形状取得にはshapeを使う。タブルでかえってくる\n",
        "n1.shape#(5,)#変数1の形状を取得\n",
        "\n",
        "\"\"\"\n",
        "2次元配列(5,3)\n",
        "3次元配列(5,5,4)\n",
        "1次元でも2次元でも、同様にタブルで結果が返される。\n",
        "\"\"\"\n",
        "\n",
        "#3行2列の配列(2次元の配列)を作成\n",
        "\n",
        "\"\"\"\n",
        "2次元配列は行列のことを意味します。\n",
        "3×2の配列は、最初の次元に3つ要素があり、\n",
        "次の次元に2つの要素があるという意味。\n",
        "\n",
        "行(row)配列の横方向\n",
        "列(column)配列の縦方向\n",
        "\"\"\"\n",
        "n2 =np.array([[1,2], [3,4], [5,6]])\n",
        "print(n2)\n",
        "\"\"\"\n",
        "[[1 2]\n",
        " [3 4]\n",
        " [5 6]]\n",
        "\"\"\"\n",
        "print(n2.ndim) # 2"
      ],
      "metadata": {
        "colab": {
          "base_uri": "https://localhost:8080/"
        },
        "id": "oUGPZIwnyEJ2",
        "outputId": "9bff0da0-da0b-4b22-84e1-fc7d40a2a5ad"
      },
      "execution_count": 11,
      "outputs": [
        {
          "output_type": "stream",
          "name": "stdout",
          "text": [
            "[1 2 3 4 5]\n",
            "[[1 2]\n",
            " [3 4]\n",
            " [5 6]]\n",
            "2\n"
          ]
        }
      ]
    },
    {
      "cell_type": "markdown",
      "source": [
        "#行列とは"
      ],
      "metadata": {
        "id": "8Uypsce4zQKA"
      }
    },
    {
      "cell_type": "code",
      "source": [
        "my_li1 = [-1,4]\n",
        "\n",
        "my_li2 = [3,2]\n",
        "\n",
        "my_li3 = [2,5]\n",
        "\n",
        "my_li4 = [0, 1]\n",
        "my_lists = [my_li1,my_li2,my_li3,my_li4]\n",
        "my_array3 = np.array(my_lists)\n",
        "\"\"\"\n",
        "array([[-1, 4],\n",
        "       [ 3, 2],\n",
        "       [ 2, 5],\n",
        "       [ 0, 1]])\n",
        "\"\"\"\n",
        "my_array3\n"
      ],
      "metadata": {
        "colab": {
          "base_uri": "https://localhost:8080/"
        },
        "id": "Jct0IfxjzL-2",
        "outputId": "06a0dbad-1a6f-4657-f883-d4950abe9d8b"
      },
      "execution_count": 13,
      "outputs": [
        {
          "output_type": "execute_result",
          "data": {
            "text/plain": [
              "array([[-1,  4],\n",
              "       [ 3,  2],\n",
              "       [ 2,  5],\n",
              "       [ 0,  1]])"
            ]
          },
          "metadata": {},
          "execution_count": 13
        }
      ]
    },
    {
      "cell_type": "code",
      "source": [],
      "metadata": {
        "id": "5WRB90ayz9x_"
      },
      "execution_count": null,
      "outputs": []
    }
  ]
}