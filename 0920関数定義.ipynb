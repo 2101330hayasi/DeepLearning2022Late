{
  "nbformat": 4,
  "nbformat_minor": 0,
  "metadata": {
    "colab": {
      "provenance": [],
      "authorship_tag": "ABX9TyMbpzfyZlbSZmeDZHpsndHR",
      "include_colab_link": true
    },
    "kernelspec": {
      "name": "python3",
      "display_name": "Python 3"
    },
    "language_info": {
      "name": "python"
    }
  },
  "cells": [
    {
      "cell_type": "markdown",
      "metadata": {
        "id": "view-in-github",
        "colab_type": "text"
      },
      "source": [
        "<a href=\"https://colab.research.google.com/github/2101330hayasi/DeepLearning2022Late/blob/main/0920%E9%96%A2%E6%95%B0%E5%AE%9A%E7%BE%A9.ipynb\" target=\"_parent\"><img src=\"https://colab.research.google.com/assets/colab-badge.svg\" alt=\"Open In Colab\"/></a>"
      ]
    },
    {
      "cell_type": "markdown",
      "source": [
        "#python3で関数を定義する\n",
        "\n",
        "##関数定義"
      ],
      "metadata": {
        "id": "WihCT1qjbseN"
      }
    },
    {
      "cell_type": "code",
      "source": [
        "#helloという関数を定義する\n",
        "#\"hello, kansuu!\" と画面表示する関数\n",
        "def hello():\n",
        "  print('hello, kansuu!')#インデントされている\n",
        "  #インデントされている命令文などは関数の中の範囲\n",
        "print('test message!')#インデントされていない\n",
        "#インデントされていない命令文などは関数の範囲の外"
      ],
      "metadata": {
        "colab": {
          "base_uri": "https://localhost:8080/"
        },
        "id": "Iqnt8cDjbx-Z",
        "outputId": "d2e7179c-32d2-4657-a799-4654dfa6ad01"
      },
      "execution_count": 3,
      "outputs": [
        {
          "output_type": "stream",
          "name": "stdout",
          "text": [
            "test message!\n"
          ]
        }
      ]
    },
    {
      "cell_type": "markdown",
      "source": [
        "#関数を定義する"
      ],
      "metadata": {
        "id": "M5BIKYOAe8Mn"
      }
    },
    {
      "cell_type": "code",
      "source": [
        "#作成した関数hello()をコールする\n",
        "hello()\n",
        "hello()"
      ],
      "metadata": {
        "colab": {
          "base_uri": "https://localhost:8080/"
        },
        "id": "bauzofhsfEHx",
        "outputId": "337faebb-1395-4eb7-f74e-c3912a284072"
      },
      "execution_count": 4,
      "outputs": [
        {
          "output_type": "stream",
          "name": "stdout",
          "text": [
            "hello, kansuu!\n",
            "hello, kansuu!\n"
          ]
        }
      ]
    },
    {
      "cell_type": "markdown",
      "source": [
        "#引数付きの関数を定義する\n"
      ],
      "metadata": {
        "id": "Pbbqs5ZpfSnK"
      }
    },
    {
      "cell_type": "code",
      "source": [
        "#引数付きの関数hello() を定義\n",
        "def hello(who):\n",
        "  print('hello,' + who + '!')\n",
        "  #ここが関数の終わり\n",
        "hello('python!')"
      ],
      "metadata": {
        "colab": {
          "base_uri": "https://localhost:8080/"
        },
        "id": "OR4lIt8QfWcA",
        "outputId": "dfbe6028-41ae-4952-b15f-2532eef27c0d"
      },
      "execution_count": 8,
      "outputs": [
        {
          "output_type": "stream",
          "name": "stdout",
          "text": [
            "hello,python!!\n"
          ]
        }
      ]
    },
    {
      "cell_type": "markdown",
      "source": [
        "#複数の引数付き関数を定義"
      ],
      "metadata": {
        "id": "5pqopNYQglUZ"
      }
    },
    {
      "cell_type": "code",
      "source": [
        "def hello(who, aisatsu):\n",
        "  print('hello,' + who + 'さん' + aisatsu)\n",
        "  #関数終わり\n",
        "\n",
        "hello('田中', 'おはよう')\n",
        "hello('鈴木', 'こんいちは')"
      ],
      "metadata": {
        "colab": {
          "base_uri": "https://localhost:8080/"
        },
        "id": "HnfRhkObgpQu",
        "outputId": "8cc67c16-e6ff-4941-c2cc-c7b0ed6225db"
      },
      "execution_count": 7,
      "outputs": [
        {
          "output_type": "stream",
          "name": "stdout",
          "text": [
            "hello,田中さんおはよう\n",
            "hello,鈴木さんこんいちは\n"
          ]
        }
      ]
    },
    {
      "cell_type": "markdown",
      "source": [
        "#関数の戻り値を定義する\n",
        "\n",
        "戻り値一つの関数を定義"
      ],
      "metadata": {
        "id": "_ZkcVxnxi-XS"
      }
    },
    {
      "cell_type": "code",
      "source": [
        "def helloBack(who, aisatsu):\n",
        "  return who + 'さん,' +aisatsu\n",
        "#関数終わり\n",
        "\n",
        "#戻り値を関数xに代入\n",
        "x = helloBack('佐藤', 'こんばんわ')\n",
        "print(x)\n"
      ],
      "metadata": {
        "colab": {
          "base_uri": "https://localhost:8080/"
        },
        "id": "O4Byc9HlhwJY",
        "outputId": "c3daebee-618a-4176-9292-d8e76b2dc65b"
      },
      "execution_count": 9,
      "outputs": [
        {
          "output_type": "stream",
          "name": "stdout",
          "text": [
            "佐藤さん,こんばんわ\n"
          ]
        }
      ]
    },
    {
      "cell_type": "markdown",
      "source": [
        "#複数の戻り値を返す関数を定義"
      ],
      "metadata": {
        "id": "Cu9x9ObJj8-0"
      }
    },
    {
      "cell_type": "code",
      "source": [
        "def keisan(x,y):\n",
        "#x,y, x+y この３つの値を返す\n",
        "  return x,y,x+y\n",
        "#関数終わり\n",
        "\n",
        "#関数keisanを実行して戻り値を受け取る\n",
        "e, f, g = keisan(3,6)\n",
        "print(e, f, g)"
      ],
      "metadata": {
        "colab": {
          "base_uri": "https://localhost:8080/"
        },
        "id": "9riMm1V4j55A",
        "outputId": "dcb4ecf9-7320-4f6a-b433-f48ee8c0b3e3"
      },
      "execution_count": 11,
      "outputs": [
        {
          "output_type": "stream",
          "name": "stdout",
          "text": [
            "3 6 9\n"
          ]
        }
      ]
    },
    {
      "cell_type": "markdown",
      "source": [
        "#その他の文法\n",
        "\n",
        "分岐(if文)\n"
      ],
      "metadata": {
        "id": "XmWvhzoqmMKQ"
      }
    },
    {
      "cell_type": "code",
      "source": [
        "#if文の範囲もインデントで表す\n",
        "#numの値\n",
        "def over(num, thres):\n",
        "  if num > thres:\n",
        "    print(str(num) + 'は'+ str(thres) + 'より多きい')\n",
        "  else:\n",
        "    print(str(num) + 'は' + str(thres) + '以下です')\n",
        "#分岐の終わり\n",
        "#関数の終わり\n",
        "\n",
        "over(333, 100)\n",
        "over(-1,10)"
      ],
      "metadata": {
        "colab": {
          "base_uri": "https://localhost:8080/"
        },
        "id": "Pb91qP-vlbLm",
        "outputId": "57aa74de-8871-4eb1-8861-f4dc3b086ca1"
      },
      "execution_count": 13,
      "outputs": [
        {
          "output_type": "stream",
          "name": "stdout",
          "text": [
            "333は100より多きい\n",
            "-1は10以下です\n"
          ]
        }
      ]
    },
    {
      "cell_type": "code",
      "source": [
        "#リストに第２引数の値が含まれるか判定\n",
        "def include(list, keyword):\n",
        "  uniq = set(list)\n",
        "  if keyword in unqi:\n",
        "    print(keyword + 'が含まれる')\n",
        "  else:\n",
        "    print(keyword + 'が含まれない')\n",
        "  #分岐の終わり\n",
        "#関数の終わり\n",
        "\n",
        "#リストを引き渡して作成した関数を実行する\n",
        "list_1 = ['アップル','ペン','ペン','パイナップル']\n",
        "include(list_1,'パイナップル')\n",
        "include(list_1,'バナナ')"
      ],
      "metadata": {
        "id": "udwOj6_ln_Vw"
      },
      "execution_count": 1,
      "outputs": []
    },
    {
      "cell_type": "markdown",
      "source": [
        "#繰り返し分(while文)"
      ],
      "metadata": {
        "id": "0RB5sXLOxAgc"
      }
    },
    {
      "cell_type": "code",
      "source": [
        "#while文は条件がturuの間繰り返す\n",
        "\n",
        "def count(max):\n",
        "  num = 0\n",
        "  while num < max:\n",
        "    print(num)\n",
        "    num += 1\n",
        "  #while繰り返しの終わり\n",
        "#関数の終わり\n",
        "\n",
        "\n",
        "count(5)\n"
      ],
      "metadata": {
        "colab": {
          "base_uri": "https://localhost:8080/"
        },
        "id": "bzzxiL0zu_vd",
        "outputId": "fd5337bd-6900-46fe-a845-d0467346cb02"
      },
      "execution_count": 2,
      "outputs": [
        {
          "output_type": "stream",
          "name": "stdout",
          "text": [
            "0\n",
            "1\n",
            "2\n",
            "3\n",
            "4\n"
          ]
        }
      ]
    },
    {
      "cell_type": "markdown",
      "source": [
        "#繰り返し分(for文)\n",
        "\n",
        "変数βの集合から１つずつ取り出して変数αとして使う\n",
        "\n",
        "for変数a in range(変数β)\n",
        "\n"
      ],
      "metadata": {
        "id": "U8vk0M3uzkeU"
      }
    },
    {
      "cell_type": "code",
      "source": [
        "#集合（コレクション）の中から取り出して繰り返し\n",
        "def every (array) :\n",
        "  for x in array:#arrayの中から１つずつデータを取り出しxに代入\n",
        "    print(x)\n",
        "  #for文終わり\n",
        "#関数終わり\n",
        "\n",
        "list = [1,2,3]\n",
        "every(list)\n",
        "tuple = (4,5,6)\n",
        "every(tuple)\n",
        "dict = {'a':7, 'b':8,'c':9}\n",
        "every(dict)\n",
        "values =  dict.values()\n",
        "every(values)\n",
        "every('dog')"
      ],
      "metadata": {
        "colab": {
          "base_uri": "https://localhost:8080/"
        },
        "id": "ZYjE4i_0ymw9",
        "outputId": "34accbe0-42cc-4854-9718-b94b79528fdf"
      },
      "execution_count": 3,
      "outputs": [
        {
          "output_type": "stream",
          "name": "stdout",
          "text": [
            "1\n",
            "2\n",
            "3\n",
            "4\n",
            "5\n",
            "6\n",
            "a\n",
            "b\n",
            "c\n",
            "7\n",
            "8\n",
            "9\n",
            "d\n",
            "o\n",
            "g\n"
          ]
        }
      ]
    },
    {
      "cell_type": "code",
      "source": [
        "#カウンター関数で繰り返す\n",
        "#for n in range(数値)0～数値未満繰り返す\n",
        "\n",
        "def count (num):\n",
        "  for i in range(num):\n",
        "    print(i)\n"
      ],
      "metadata": {
        "id": "QCPySsg22yY5"
      },
      "execution_count": 3,
      "outputs": []
    },
    {
      "cell_type": "markdown",
      "source": [
        "#繰り返しを中断したいときは、break命令\n"
      ],
      "metadata": {
        "id": "_k-pq84E5I8z"
      }
    },
    {
      "cell_type": "code",
      "source": [
        "def stop (array):\n",
        "  for i in array:\n",
        "    if i >= 4:\n",
        "      break\n",
        "    print(i)\n",
        "list = [1,2,3,4,5,1,2,3,4,5]\n",
        "stop(list)"
      ],
      "metadata": {
        "colab": {
          "base_uri": "https://localhost:8080/"
        },
        "id": "jqtdbfbZ4_GL",
        "outputId": "29cc496f-093b-4c1f-aa84-b548ebc9a762"
      },
      "execution_count": 4,
      "outputs": [
        {
          "output_type": "stream",
          "name": "stdout",
          "text": [
            "1\n",
            "2\n",
            "3\n"
          ]
        }
      ]
    },
    {
      "cell_type": "markdown",
      "source": [
        "#繰り返しをスキップしたいときは、continue命令"
      ],
      "metadata": {
        "id": "4yimQXww7Rhr"
      }
    },
    {
      "cell_type": "code",
      "source": [
        "def skip(array):\n",
        "  for i in array:\n",
        "    if i >= 4:\n",
        "      continue\n",
        "    print(i)\n",
        "\n",
        "list = [1,2,3,4,5,1,2,3,4,5]\n",
        "skip(list)"
      ],
      "metadata": {
        "colab": {
          "base_uri": "https://localhost:8080/"
        },
        "id": "irxrbZwB6hLl",
        "outputId": "a89bdc5b-f764-44e1-affd-f3381ffb299c"
      },
      "execution_count": 5,
      "outputs": [
        {
          "output_type": "stream",
          "name": "stdout",
          "text": [
            "1\n",
            "2\n",
            "3\n",
            "1\n",
            "2\n",
            "3\n"
          ]
        }
      ]
    },
    {
      "cell_type": "code",
      "source": [],
      "metadata": {
        "id": "qBO-twfw8i1n"
      },
      "execution_count": null,
      "outputs": []
    }
  ]
}